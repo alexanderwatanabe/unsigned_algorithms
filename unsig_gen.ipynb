{
 "cells": [
  {
   "cell_type": "markdown",
   "metadata": {},
   "source": [
    "# Press \"SHIFT + ENTER\" to run a cell, all cells should be run in order, from top to bottom"
   ]
  },
  {
   "cell_type": "markdown",
   "metadata": {},
   "source": [
    "### First we import some libraries"
   ]
  },
  {
   "cell_type": "code",
   "execution_count": 6,
   "metadata": {},
   "outputs": [],
   "source": [
    "import numpy as np\n",
    "from PIL import Image"
   ]
  },
  {
   "cell_type": "markdown",
   "metadata": {},
   "source": [
    "### Then we set some parameters:\n",
    "1. Change 4096 to the size you want your unsig to be (width and height will be the same)"
   ]
  },
  {
   "cell_type": "code",
   "execution_count": 7,
   "metadata": {},
   "outputs": [],
   "source": [
    "#pixel dimension\n",
    "dim = 4096"
   ]
  },
  {
   "cell_type": "markdown",
   "metadata": {},
   "source": [
    "## input your unsigs:\n",
    "1. index (number)\n",
    "2. number of properties\n",
    "3. the values of these properties"
   ]
  },
  {
   "cell_type": "code",
   "execution_count": 8,
   "metadata": {},
   "outputs": [],
   "source": [
    "#replace the content inside {} with your unsig's properties\n",
    "unsig = {'index': 0,\n",
    "         'num_props': 0,\n",
    "         'properties': {\n",
    "             'multipliers'   : [],\n",
    "             'colors'        : [],\n",
    "             'distributions' : [],\n",
    "             'rotations'     : []}}"
   ]
  },
  {
   "cell_type": "markdown",
   "metadata": {},
   "source": [
    "## Run the cell below!"
   ]
  },
  {
   "cell_type": "code",
   "execution_count": 9,
   "metadata": {},
   "outputs": [],
   "source": [
    "def norm(x , mean , std):\n",
    "    p = (np.pi*std) * np.exp(-0.5*((x-mean)/std)**2)\n",
    "    return p\n",
    "\n",
    "def scale_make2d(s):\n",
    "    scaled = np.interp(s, (s.min(), s.max()), (0, u_range))\n",
    "    two_d = np.tile(scaled, (dim, 1))\n",
    "    return two_d\n",
    "\n",
    "def gen_nft(nft):\n",
    "    idx = unsig['index']\n",
    "    props = unsig['properties']\n",
    "    \n",
    "    n = np.zeros((dim, dim, 3)).astype(np.uint32)\n",
    "\n",
    "    for i in range(unsig['num_props']):\n",
    "        mult = props['multipliers'][i]\n",
    "        col = props['colors'][i]\n",
    "        dist = props['distributions'][i]\n",
    "        rot = props['rotations'][i]\n",
    "        c = channels[col]\n",
    "        buffer =  mult * np.rot90(dists[dist], k=(rot / 90))\n",
    "        n[ :, :, c ] = n[ :, :, c ] + buffer\n",
    "\n",
    "    n = np.interp(n, (0, u_range), (0, 255)).astype(np.uint8)\n",
    "\n",
    "    return (idx, n)\n",
    "\n",
    "if __name__ == '__main__':\n",
    "    #setup\n",
    "    x = list(range(dim))\n",
    "    u_range = 4294967293\n",
    "    mean = np.mean(x)\n",
    "    std = dim/6\n",
    "\n",
    "    #probability and cumulative distribution\n",
    "    p_1d = np.array(norm(x, mean, std)).astype(np.uint32)\n",
    "    c_1d = np.cumsum(p_1d)\n",
    "\n",
    "    #2d arrays\n",
    "    p_2d = scale_make2d(p_1d)\n",
    "    c_2d = scale_make2d(c_1d)\n",
    "\n",
    "    #dicts for retrieving values\n",
    "    dists = {'Normal': p_2d, 'CDF': c_2d}\n",
    "    channels = {'Red': 0, 'Green': 1, 'Blue': 2}\n",
    "    \n",
    "    #make your nft\n",
    "    i, nft = gen_nft(unsig)\n",
    "    \n",
    "    img = Image.fromarray(nft)\n",
    "    img.save(f'unsig_{i:05d}.png')"
   ]
  }
 ],
 "metadata": {
  "kernelspec": {
   "display_name": "Python 3",
   "language": "python",
   "name": "python3"
  },
  "language_info": {
   "codemirror_mode": {
    "name": "ipython",
    "version": 3
   },
   "file_extension": ".py",
   "mimetype": "text/x-python",
   "name": "python",
   "nbconvert_exporter": "python",
   "pygments_lexer": "ipython3",
   "version": "3.8.3"
  }
 },
 "nbformat": 4,
 "nbformat_minor": 4
}
